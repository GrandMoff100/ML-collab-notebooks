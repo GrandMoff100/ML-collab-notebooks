{
  "nbformat": 4,
  "nbformat_minor": 0,
  "metadata": {
    "colab": {
      "name": "LatLongKNN.ipynb",
      "provenance": [],
      "collapsed_sections": [],
      "include_colab_link": true
    },
    "kernelspec": {
      "name": "python3",
      "display_name": "Python 3"
    }
  },
  "cells": [
    {
      "cell_type": "markdown",
      "metadata": {
        "id": "view-in-github",
        "colab_type": "text"
      },
      "source": [
        "<a href=\"https://colab.research.google.com/github/GrandMoff100/ML-collab-notebooks/blob/main/LatLongKNN.ipynb\" target=\"_parent\"><img src=\"https://colab.research.google.com/assets/colab-badge.svg\" alt=\"Open In Colab\"/></a>"
      ]
    },
    {
      "cell_type": "code",
      "source": [
        "from sklearn.model_selection import train_test_split\n",
        "from sklearn.neighbors import KNeighborsClassifier\n",
        "from sklearn.metrics import confusion_matrix, accuracy_score\n",
        "from sklearn.model_selection import StratifiedKFold\n",
        "from sklearn.model_selection import cross_val_score\n",
        "import numpy as np\n",
        "import pandas as pd\n",
        "\n",
        "\n",
        "# Latitude, Longitude, Minnesota vs Wisconsin\n",
        "df = pd.read_csv(\"https://raw.githubusercontent.com/lynn0032/MLCamp2021/main/mystery_data.csv\")\n",
        "\n",
        "values_values = df[[\"value1\", \"value2\"]].values\n",
        "results_values = df[\"category\"]\n",
        "\n",
        "\n",
        "def k_model(neighbors):\n",
        "    input_train, input_test, output_train, output_test = train_test_split(\n",
        "        values_values,\n",
        "        results_values,\n",
        "        test_size=0.2,\n",
        "        random_state=0  # Random seed integer\n",
        "    )\n",
        "    knn = KNeighborsClassifier(n_neighbors=neighbors)\n",
        "    scores = cross_val_score(\n",
        "        knn,\n",
        "        input_train,\n",
        "        output_train,\n",
        "        cv=StratifiedKFold(shuffle=True, random_state=1, n_splits=2),\n",
        "        scoring='accuracy',\n",
        "        n_jobs=-1\n",
        "    )\n",
        "    knn.fit(input_train, output_train)\n",
        "    output_predict = knn.predict(input_test)\n",
        "    ccm = confusion_matrix(output_test, output_predict)\n",
        "    return accuracy_score(output_test, output_predict), scores.mean(), neighbors\n",
        "\n",
        "\n",
        "k_list = list(range(1, 100))\n",
        "score_df = pd.DataFrame(\n",
        "    [k_model(k) for k in k_list],\n",
        "    columns=[\"testing_accuracy\", \"training_accuracy\", \"k\"]\n",
        ")\n",
        "\n",
        "score_df.plot.scatter(x=\"testing_accuracy\", y=\"training_accuracy\", s=\"k\")\n",
        "\n"
      ],
      "metadata": {
        "id": "Op8sgK12zeDZ",
        "colab": {
          "base_uri": "https://localhost:8080/",
          "height": 297
        },
        "outputId": "66b5ea1e-b798-419b-a9be-1025015b3bb9"
      },
      "execution_count": 6,
      "outputs": [
        {
          "output_type": "execute_result",
          "data": {
            "text/plain": [
              "<matplotlib.axes._subplots.AxesSubplot at 0x7f3315b13110>"
            ]
          },
          "metadata": {},
          "execution_count": 6
        },
        {
          "output_type": "display_data",
          "data": {
            "text/plain": [
              "<Figure size 432x288 with 1 Axes>"
            ],
            "image/png": "[encoded data removed]"
          },
          "metadata": {
            "needs_background": "light"
          }
        }
      ]
    }
  ]
}