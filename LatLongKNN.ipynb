{
  "nbformat": 4,
  "nbformat_minor": 0,
  "metadata": {
    "colab": {
      "name": "LatLongKNN.ipynb",
      "provenance": [],
      "collapsed_sections": [],
      "include_colab_link": true
    },
    "kernelspec": {
      "name": "python3",
      "display_name": "Python 3"
    }
  },
  "cells": [
    {
      "cell_type": "markdown",
      "metadata": {
        "id": "view-in-github",
        "colab_type": "text"
      },
      "source": [
        "<a href=\"https://colab.research.google.com/github/GrandMoff100/ML-collab-notebooks/blob/main/LatLongKNN.ipynb\" target=\"_parent\"><img src=\"https://colab.research.google.com/assets/colab-badge.svg\" alt=\"Open In Colab\"/></a>"
      ]
    },
    {
      "cell_type": "code",
      "source": [
        "from sklearn.model_selection import train_test_split\n",
        "from sklearn.neighbors import KNeighborsClassifier\n",
        "from sklearn.metrics import confusion_matrix, accuracy_score\n",
        "from sklearn.model_selection import StratifiedKFold\n",
        "from sklearn.model_selection import cross_val_score\n",
        "import numpy as np\n",
        "import pandas as pd\n",
        "\n",
        "\n",
        "# Latitude, Longitude, Minnesota vs Wisconsin\n",
        "df = pd.read_csv(\"https://raw.githubusercontent.com/lynn0032/MLCamp2021/main/mystery_data.csv\")\n",
        "\n",
        "values_values = df[[\"value1\", \"value2\"]].values\n",
        "results_values = df[\"category\"]\n",
        "\n",
        "\n",
        "def ccm_score(ccm):\n",
        "  return ccm[0][0] + ccm[1][1] - ccm[0][1] - ccm[1][0]\n",
        "\n",
        "\n",
        "def k_model(neighbors):\n",
        "    input_train, input_test, output_train, output_test = train_test_split(\n",
        "        values_values,\n",
        "        results_values,\n",
        "        test_size=0.2,\n",
        "        random_state=0  # Random seed integer\n",
        "    )\n",
        "\n",
        "    knn = KNeighborsClassifier(n_neighbors=neighbors)\n",
        "    scores = cross_val_score(\n",
        "        knn,\n",
        "        input_train,\n",
        "        output_train,\n",
        "        cv=StratifiedKFold(shuffle=True, random_state=1, n_splits=2),\n",
        "        scoring='accuracy',\n",
        "        n_jobs=-1\n",
        "    )\n",
        "    knn.fit(input_train, output_train)\n",
        "    ccm = confusion_matrix(output_test, knn.predict(input_test))\n",
        "    return ccm_score(ccm), scores.mean(), neighbors\n",
        "\n",
        "\n",
        "k_list = list(range(1, 100))\n",
        "score_df = pd.DataFrame(\n",
        "    [k_model(k) for k in k_list],\n",
        "    columns=[\"ccm_score\", \"knn_score\", \"k\"]\n",
        ")\n",
        "\n",
        "\n",
        "start_color = np.array([255, 0, 0])\n",
        "end_color = np.array([0, 255, 0])\n",
        "dc = (end_color - start_color) / len(k_list)\n",
        "colors = [(start_color + dc * k) // 1 for k in k_list]\n",
        "score_df.plot.scatter(x=\"ccm_score\", y=\"knn_score\", s=\"k\")\n",
        "\n"
      ],
      "metadata": {
        "id": "Op8sgK12zeDZ",
        "colab": {
          "base_uri": "https://localhost:8080/",
          "height": 296
        },
        "outputId": "c6b0901d-839a-434b-8318-1cca5c96b7fd"
      },
      "execution_count": 45,
      "outputs": [
        {
          "output_type": "execute_result",
          "data": {
            "text/plain": [
              "<matplotlib.axes._subplots.AxesSubplot at 0x7f4e6c0e3c90>"
            ]
          },
          "metadata": {},
          "execution_count": 45
        },
        {
          "output_type": "display_data",
          "data": {
            "text/plain": [
              "<Figure size 432x288 with 1 Axes>"
            ],
            "image/png": "[encoded data removed]"
          },
          "metadata": {
            "needs_background": "light"
          }
        }
      ]
    }
  ]
}