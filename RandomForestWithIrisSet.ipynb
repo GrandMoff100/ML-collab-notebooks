{
  "nbformat": 4,
  "nbformat_minor": 0,
  "metadata": {
    "colab": {
      "name": "Copy of Decision Trees.ipynb",
      "provenance": [],
      "collapsed_sections": [],
      "include_colab_link": true
    },
    "kernelspec": {
      "display_name": "Python 3",
      "language": "python",
      "name": "python3"
    },
    "language_info": {
      "codemirror_mode": {
        "name": "ipython",
        "version": 3
      },
      "file_extension": ".py",
      "mimetype": "text/x-python",
      "name": "python",
      "nbconvert_exporter": "python",
      "pygments_lexer": "ipython3",
      "version": "3.6.4"
    }
  },
  "cells": [
    {
      "cell_type": "markdown",
      "metadata": {
        "id": "view-in-github",
        "colab_type": "text"
      },
      "source": [
        "<a href=\"https://colab.research.google.com/github/GrandMoff100/MLCamp2022/blob/main/RandomForestWithIrisSet.ipynb\" target=\"_parent\"><img src=\"https://colab.research.google.com/assets/colab-badge.svg\" alt=\"Open In Colab\"/></a>"
      ]
    },
    {
      "cell_type": "code",
      "metadata": {
        "id": "_GvPm18jOB3P"
      },
      "source": [
        "from sklearn.ensemble import RandomForestClassifier\n",
        "from sklearn.model_selection import train_test_split\n",
        "from sklearn.metrics import accuracy_score, confusion_matrix\n",
        "import pandas as pd\n",
        "import numpy as np\n",
        "\n",
        "\n",
        "df = pd.read_csv(\"https://raw.githubusercontent.com/lynn0032/MLCamp2021/main/iris.csv\")\n",
        "\n",
        "features = [\"sepal_length\", \"sepal_width\", \"petal_width\", \"petal_length\"]\n",
        "X = df[features]\n",
        "y = df[\"species\"]\n",
        "\n",
        "X_train, X_test, y_train, y_test = train_test_split(X, y, test_size=0.2, random_state=24)\n"
      ],
      "execution_count": 116,
      "outputs": []
    },
    {
      "cell_type": "code",
      "source": [
        "def random_tree(size):\n",
        "    clf = RandomForestClassifier(n_estimators=size, max_depth=2, ccp_alpha=0.1)\n",
        "    clf.fit(X_train, y_train)\n",
        "    y_pred = clf.predict(X_test)\n",
        "    return accuracy_score(y_test, y_pred)\n",
        "\n",
        "size_list = list(range(5, 300))\n",
        "scores = list(map(random_tree, size_list))"
      ],
      "metadata": {
        "id": "zDa6aXFlK8oc"
      },
      "execution_count": 137,
      "outputs": []
    },
    {
      "cell_type": "code",
      "source": [
        "# Visualize when increases in estimator size lead to an increase in accuracy\n",
        "pd.DataFrame(list(zip(size_list, scores, [(scores[i + 1] - score) * 1000 for i, score in enumerate(scores[:-2])])), columns=[\"size\", \"score\", \"increase\"]).plot.scatter(x=\"size\", y=\"score\", s=\"increase\")"
      ],
      "metadata": {
        "colab": {
          "base_uri": "https://localhost:8080/",
          "height": 334
        },
        "id": "4Oy_0II8PVr-",
        "outputId": "8a092e5a-1fc1-4f21-961d-7ae7095231a0"
      },
      "execution_count": 151,
      "outputs": [
        {
          "output_type": "stream",
          "name": "stderr",
          "text": [
            "/usr/local/lib/python3.7/dist-packages/matplotlib/collections.py:885: RuntimeWarning: invalid value encountered in sqrt\n",
            "  scale = np.sqrt(self._sizes) * dpi / 72.0 * self._factor\n"
          ]
        },
        {
          "output_type": "execute_result",
          "data": {
            "text/plain": [
              "<matplotlib.axes._subplots.AxesSubplot at 0x7f1763678c50>"
            ]
          },
          "metadata": {},
          "execution_count": 151
        },
        {
          "output_type": "display_data",
          "data": {
            "text/plain": [
              "<Figure size 432x288 with 1 Axes>"
            ],
            "image/png": "[encoded data removed]"
          },
          "metadata": {
            "needs_background": "light"
          }
        }
      ]
    },
    {
      "cell_type": "code",
      "source": [
        "import graphviz\n",
        "from sklearn.tree import export_graphviz\n",
        "from IPython.display import display\n",
        "\n",
        "def visualize_estimator(estimator):\n",
        "    dot_data = export_graphviz(estimator, out_file=None)\n",
        "    display(graphviz.Source(dot_data))\n"
      ],
      "metadata": {
        "id": "TRnA3xevM5Oh"
      },
      "execution_count": null,
      "outputs": []
    }
  ]
}