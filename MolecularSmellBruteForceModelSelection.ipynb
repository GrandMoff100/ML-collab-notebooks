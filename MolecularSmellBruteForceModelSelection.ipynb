{
  "cells": [
    {
      "cell_type": "markdown",
      "metadata": {
        "id": "view-in-github",
        "colab_type": "text"
      },
      "source": [
        "<a href=\"https://colab.research.google.com/github/GrandMoff100/MiscColabNotebooks/blob/main/MolecularSmellBruteForceModelSelection.ipynb\" target=\"_parent\"><img src=\"https://colab.research.google.com/assets/colab-badge.svg\" alt=\"Open In Colab\"/></a>"
      ]
    },
    {
      "cell_type": "code",
      "source": [
        "!pip install func_timeout\n",
        "import func_timeout"
      ],
      "metadata": {
        "colab": {
          "base_uri": "https://localhost:8080/"
        },
        "id": "pYpVaTVLAGl9",
        "outputId": "5b374ed1-bd81-4a35-e58e-efddcb92f44c"
      },
      "execution_count": 1,
      "outputs": [
        {
          "output_type": "stream",
          "name": "stdout",
          "text": [
            "Looking in indexes: https://pypi.org/simple, https://us-python.pkg.dev/colab-wheels/public/simple/\n",
            "Requirement already satisfied: func_timeout in /usr/local/lib/python3.7/dist-packages (4.3.5)\n"
          ]
        }
      ]
    },
    {
      "cell_type": "code",
      "execution_count": 2,
      "metadata": {
        "id": "VgKtU30JJ71X"
      },
      "outputs": [],
      "source": [
        "\n",
        "import pandas as pd\n",
        "import matplotlib.pyplot as plt\n",
        "import seaborn as sns\n",
        "import itertools\n",
        "import random\n",
        "import numpy as np\n",
        "import logging\n",
        "from sklearn.metrics import confusion_matrix, accuracy_score\n",
        "from sklearn import tree, svm, decomposition, neural_network\n",
        "from sklearn.preprocessing import StandardScaler\n",
        "from sklearn.pipeline import make_pipeline\n",
        "from sklearn.decomposition import FactorAnalysis, IncrementalPCA, KernelPCA, TruncatedSVD, SparsePCA, FastICA\n",
        "from sklearn.cluster import KMeans\n",
        "from sklearn.neighbors import KNeighborsClassifier\n",
        "from sklearn.model_selection import cross_val_score, train_test_split, StratifiedKFold\n",
        "from sklearn.ensemble import RandomForestClassifier"
      ]
    },
    {
      "cell_type": "code",
      "execution_count": 3,
      "metadata": {
        "id": "FWcHaALqKdUf"
      },
      "outputs": [],
      "source": [
        "# Load Datasets\n",
        "train_df = pd.read_csv(\"https://raw.githubusercontent.com/trevorkarn/MLCamp2022/main/molecular_smell_training_data.csv\")\n",
        "# Shape: (700ish, 4857ish)\n",
        "\n",
        "# Discard Some Columns\n",
        "cleaned_df = train_df.drop(columns=[\"VALENCE.PLEASANTNESS\"])\n",
        "\n",
        "# Clean Data\n",
        "cleaned_df = cleaned_df.replace([\"low\", \"high\"], [0, 1])"
      ]
    },
    {
      "cell_type": "code",
      "execution_count": 4,
      "metadata": {
        "id": "aJeNSzR0Rd5V"
      },
      "outputs": [],
      "source": [
        "X_all = cleaned_df.drop(columns=[\"SWEETORSOUR\"])\n",
        "y_all = cleaned_df[\"SWEETORSOUR\"]\n",
        "\n",
        "X_train, X_test, y_train, y_test = train_test_split(\n",
        "    X_all,\n",
        "    y_all,\n",
        "    test_size=0.2,\n",
        "    random_state=42\n",
        ")"
      ]
    },
    {
      "cell_type": "code",
      "execution_count": 5,
      "metadata": {
        "id": "SGif_VBdRUiw"
      },
      "outputs": [],
      "source": [
        "@func_timeout.func_set_timeout(10)\n",
        "def score_supervised_model(model):\n",
        "    cv_scores = cross_val_score(\n",
        "        model,\n",
        "        X_train,\n",
        "        y_train,\n",
        "        cv=StratifiedKFold(shuffle=True, random_state=42)\n",
        "    )\n",
        "    score = cv_scores.mean()\n",
        "    logging.debug(\"%r\", score)\n",
        "    logging.debug(\"\")\n",
        "    return score\n"
      ]
    },
    {
      "cell_type": "code",
      "execution_count": 6,
      "metadata": {
        "id": "mCT51CurLX2W"
      },
      "outputs": [],
      "source": [
        "def generate_knns():\n",
        "    for k in range(2, 50):\n",
        "        yield KNeighborsClassifier(n_neighbors=k, n_jobs=-1)\n",
        "\n",
        "\n",
        "def generate_svms():\n",
        "    for kernel in [\"poly\", \"rbf\", \"sigmoid\"]:\n",
        "        yield svm.SVC(kernel=kernel)\n",
        "\n",
        "\n",
        "def generate_trees():\n",
        "    for depth in range(2, 40, 3):\n",
        "       yield tree.DecisionTreeClassifier(max_depth=depth)\n",
        "\n",
        "\n",
        "def generate_kmeans():\n",
        "    yield KMeans(n_clusters=2)\n",
        "\n",
        "\n",
        "def generate_kernel_pca():\n",
        "    for (i, kernel) in itertools.product(\n",
        "        range(2, 100, 3),\n",
        "        {'rbf', 'sigmoid', 'cosine'}\n",
        "    ):\n",
        "        yield KernelPCA(n_components=i, kernel=kernel)\n",
        "\n",
        "\n",
        "def generate_factor_analysis():\n",
        "   for (i, rotation) in itertools.product(\n",
        "        range(2, 100, 3),\n",
        "        {'varimax', 'quartimax'}\n",
        "    ):\n",
        "        yield FactorAnalysis(n_components=i, rotation=rotation)\n",
        "\n",
        "\n",
        "def generate_incremental_pca():\n",
        "    for i in  range(2, 100, 3):\n",
        "        for whiten in [False, True]:\n",
        "            yield IncrementalPCA(n_components=i, whiten=whiten)\n",
        "\n",
        "\n",
        "def generate_truncated_svd():\n",
        "    for i in  range(2, 100, 3):\n",
        "        yield TruncatedSVD(n_components=i)\n",
        "\n",
        "\n",
        "def generate_sparse_pca():\n",
        "    for i in  range(2, 100, 3):\n",
        "        for sparse in  range(1, 100, 3):\n",
        "            yield SparsePCA(n_components=i, alpha=sparse)\n",
        "\n",
        "\n",
        "def generate_fast_ica():\n",
        "    for i in  range(2, 100, 3):\n",
        "        yield FastICA(n_components=i)\n",
        "\n",
        "\n",
        "\n",
        "def generate_supervised_models():\n",
        "    for transformer in itertools.chain(\n",
        "        generate_kernel_pca(),\n",
        "        generate_factor_analysis(),\n",
        "        generate_incremental_pca(),\n",
        "        generate_truncated_svd(),\n",
        "        generate_sparse_pca(),\n",
        "        generate_fast_ica()\n",
        "    ):\n",
        "        for model in itertools.chain(\n",
        "            generate_knns(),\n",
        "            generate_svms(),\n",
        "            generate_trees()\n",
        "        ):\n",
        "            yield make_pipeline(transformer, model)\n"
      ]
    },
    {
      "cell_type": "code",
      "execution_count": null,
      "metadata": {
        "id": "gcVrvHe2NRJT"
      },
      "outputs": [],
      "source": [
        "import sys\n",
        "\n",
        "import logging\n",
        "logger = logging.getLogger()\n",
        "logger.setLevel(logging.DEBUG)\n",
        "open(\"omni.log\", \"w\").close()\n",
        "logger.addHandler(logging.FileHandler(\"omni.log\", encoding=\"utf-8\"))\n",
        "\n",
        "\n",
        "models = list(generate_supervised_models())\n",
        "models = list(random.sample(models, len(models) // 4))\n",
        "total = len(models)\n",
        "\n",
        "for i, model in enumerate(models):\n",
        "    logging.debug(f\"(%i/%i) %r\", i, total, model)\n",
        "    try:\n",
        "        score_supervised_model(model)\n",
        "    except:\n",
        "        continue"
      ]
    }
  ],
  "metadata": {
    "accelerator": "TPU",
    "colab": {
      "collapsed_sections": [],
      "name": "MolecularSmellBruteForceModelSelection.ipynb",
      "provenance": [],
      "include_colab_link": true
    },
    "gpuClass": "standard",
    "kernelspec": {
      "display_name": "Python 3",
      "name": "python3"
    },
    "language_info": {
      "name": "python"
    }
  },
  "nbformat": 4,
  "nbformat_minor": 0
}