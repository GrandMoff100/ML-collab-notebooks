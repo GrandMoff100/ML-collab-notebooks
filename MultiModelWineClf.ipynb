{
  "nbformat": 4,
  "nbformat_minor": 0,
  "metadata": {
    "colab": {
      "name": "MultiModelWineClf.ipynb",
      "provenance": [],
      "collapsed_sections": [],
      "include_colab_link": true
    },
    "kernelspec": {
      "display_name": "Python 3",
      "name": "python3"
    },
    "language_info": {
      "name": "python"
    },
    "gpuClass": "standard"
  },
  "cells": [
    {
      "cell_type": "markdown",
      "metadata": {
        "id": "view-in-github",
        "colab_type": "text"
      },
      "source": [
        "<a href=\"https://colab.research.google.com/github/GrandMoff100/MLCamp2022/blob/main/MultiModelWineClf.ipynb\" target=\"_parent\"><img src=\"https://colab.research.google.com/assets/colab-badge.svg\" alt=\"Open In Colab\"/></a>"
      ]
    },
    {
      "cell_type": "code",
      "metadata": {
        "id": "qLtO4nTO3jov"
      },
      "source": [
        "import pandas as pd\n",
        "import numpy as np\n",
        "import matplotlib.pyplot as plt\n",
        "import seaborn as sns\n",
        "\n",
        "from sklearn.metrics import accuracy_score, confusion_matrix\n",
        "from sklearn.model_selection import train_test_split, cross_val_score, StratifiedKFold\n",
        "from sklearn.metrics import accuracy_score\n"
      ],
      "execution_count": 36,
      "outputs": []
    },
    {
      "cell_type": "code",
      "metadata": {
        "id": "rlVq5rih5swA"
      },
      "source": [
        "df = pd.read_csv(\"https://raw.githubusercontent.com/dvescelius/MLCamp2022/main/wine.csv\")\n",
        "df = df.sample(frac=1, random_state=42).reset_index(drop=True)\n",
        "\n",
        "features = df.columns[:-1]\n",
        "\n",
        "X = df[features]\n",
        "y = df[\"type\"]\n",
        "\n",
        "X_train, X_test, y_train, y_test = train_test_split(X, y, test_size=0.2, random_state=42)\n",
        "\n"
      ],
      "execution_count": 35,
      "outputs": []
    },
    {
      "cell_type": "code",
      "metadata": {
        "id": "MpiX2fq-G8VY",
        "colab": {
          "base_uri": "https://localhost:8080/"
        },
        "outputId": "348eed43-42df-491e-c20a-c511720cec2b"
      },
      "source": [
        "from sklearn import tree, ensemble, svm, neighbors\n",
        "\n",
        "\n",
        "models = [\n",
        "    tree.DecisionTreeClassifier()\n",
        "] + [\n",
        "    ensemble.RandomForestClassifier(),\n",
        "] + [\n",
        "    svm.SVC()\n",
        "] + [\n",
        "    neighbors.KNeighborsClassifier()\n",
        "]\n",
        "\n",
        "\n",
        "def train_and_cv_model(model):\n",
        "    return cross_val_score(\n",
        "        model,\n",
        "        X_train,\n",
        "        y_train,\n",
        "        cv=StratifiedKFold(shuffle=True, random_state=42)\n",
        "    ).mean()\n",
        "\n",
        "\n",
        "for model, score in zip(models, map(train_and_cv_model, models)):\n",
        "    print(model, score)\n",
        "\n"
      ],
      "execution_count": 37,
      "outputs": [
        {
          "output_type": "stream",
          "name": "stdout",
          "text": [
            "DecisionTreeClassifier() 0.9834509883763974\n",
            "RandomForestClassifier() 0.995574702006367\n",
            "SVC() 0.9361160879543939\n",
            "KNeighborsClassifier() 0.941118123935737\n"
          ]
        }
      ]
    }
  ]
}